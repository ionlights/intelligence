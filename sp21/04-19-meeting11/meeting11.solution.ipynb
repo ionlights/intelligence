{
 "cells": [
  {
   "cell_type": "markdown",
   "metadata": {
    "tags": [
     "nb-title",
     "template"
    ],
    "title": "meeting11"
   },
   "source": [
    "<img\n",
    "    style=\"border-radius: 0.5em;\"\n",
    "    src=\"https://ucfai.org/groups/discussions/sp21/meeting11/banner.png\">\n",
    "\n",
    "<div class=\"col-12\">\n",
    "    <h1> meeting11 </h1>\n",
    "    <hr>\n",
    "</div>\n",
    "\n",
    "<div style=\"line-height: 2em;\">\n",
    "    <p>by:  on Apr 19, 2021</p>\n",
    "</div>"
   ]
  },
  {
   "cell_type": "code",
   "execution_count": null,
   "metadata": {
    "language": "python",
    "tags": [
     "template"
    ]
   },
   "outputs": [],
   "source": [
    "from pathlib import Path\n",
    "\n",
    "DATA_DIR = Path(\"/kaggle/input\")\n",
    "if (DATA_DIR / \"ucfai-discussions-sp21-meeting11\").exists():\n",
    "    DATA_DIR /= \"ucfai-discussions-sp21-meeting11\"\n",
    "elif DATA_DIR.exists():\n",
    "    # no-op to keep the proper data path for Kaggle\n",
    "    pass\n",
    "else:\n",
    "    # You'll need to download the data from Kaggle and place it in the `data/`\n",
    "    #   directory beside this notebook.\n",
    "    # The data should be here: https://kaggle.com/c/ucfai-discussions-sp21-meeting11/data\n",
    "    DATA_DIR = Path(\"data\")"
   ]
  }
 ],
 "metadata": {
  "seminar": {
   "abstract": "We're filling this out!",
   "authors": [],
   "date": "2021-04-19T00:00:00",
   "group": "discussions",
   "semester": "sp21",
   "tags": [],
   "title": "meeting11"
  }
 },
 "nbformat": 4,
 "nbformat_minor": 4
}
