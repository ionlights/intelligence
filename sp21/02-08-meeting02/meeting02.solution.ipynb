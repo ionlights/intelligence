{
 "cells": [
  {
   "cell_type": "markdown",
   "metadata": {
    "tags": [
     "nb-title",
     "template"
    ],
    "title": "meeting02"
   },
   "source": [
    "<img\n",
    "    style=\"border-radius: 0.5em;\"\n",
    "    src=\"https://ucfai.org/groups/discussions/sp21/meeting02/banner.png\">\n",
    "\n",
    "<div class=\"col-12\">\n",
    "    <h1> meeting02 </h1>\n",
    "    <hr>\n",
    "</div>\n",
    "\n",
    "<div style=\"line-height: 2em;\">\n",
    "    <p>by:  on Feb 08, 2021</p>\n",
    "</div>"
   ]
  },
  {
   "cell_type": "code",
   "execution_count": null,
   "metadata": {
    "language": "python",
    "tags": [
     "template"
    ]
   },
   "outputs": [],
   "source": [
    "from pathlib import Path\n",
    "\n",
    "DATA_DIR = Path(\"/kaggle/input\")\n",
    "if (DATA_DIR / \"ucfai-discussions-sp21-meeting02\").exists():\n",
    "    DATA_DIR /= \"ucfai-discussions-sp21-meeting02\"\n",
    "elif DATA_DIR.exists():\n",
    "    # no-op to keep the proper data path for Kaggle\n",
    "    pass\n",
    "else:\n",
    "    # You'll need to download the data from Kaggle and place it in the `data/`\n",
    "    #   directory beside this notebook.\n",
    "    # The data should be here: https://kaggle.com/c/ucfai-discussions-sp21-meeting02/data\n",
    "    DATA_DIR = Path(\"data\")"
   ]
  }
 ],
 "metadata": {
  "seminar": {
   "abstract": "We're filling this out!",
   "authors": [],
   "date": "2021-02-08T00:00:00",
   "group": "discussions",
   "semester": "sp21",
   "tags": [],
   "title": "meeting02"
  }
 },
 "nbformat": 4,
 "nbformat_minor": 4
}
